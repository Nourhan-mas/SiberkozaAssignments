{
 "cells": [
  {
   "cell_type": "code",
   "execution_count": 1,
   "id": "8c703d94",
   "metadata": {},
   "outputs": [],
   "source": [
    "import pandas as pd\n",
    "novels_data = pd.read_csv('novels.csv')\n",
    "x = novels_data.drop(columns = ['Category'])\n",
    "y = novels_data['Category']\n"
   ]
  },
  {
   "cell_type": "code",
   "execution_count": null,
   "id": "2fc397bc",
   "metadata": {},
   "outputs": [],
   "source": []
  }
 ],
 "metadata": {
  "kernelspec": {
   "display_name": "Python 3 (ipykernel)",
   "language": "python",
   "name": "python3"
  },
  "language_info": {
   "codemirror_mode": {
    "name": "ipython",
    "version": 3
   },
   "file_extension": ".py",
   "mimetype": "text/x-python",
   "name": "python",
   "nbconvert_exporter": "python",
   "pygments_lexer": "ipython3",
   "version": "3.9.13"
  }
 },
 "nbformat": 4,
 "nbformat_minor": 5
}
